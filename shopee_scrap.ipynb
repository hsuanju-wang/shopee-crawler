{
 "cells": [
  {
   "cell_type": "code",
   "execution_count": 23,
   "metadata": {},
   "outputs": [],
   "source": [
    "import requests, json\n",
    "from bs4 import BeautifulSoup\n",
    "import time\n",
    "from pymongo import MongoClient\n",
    "\n",
    "SHOPEE_URL = \"https://shopee.co.th\"\n",
    "headers = {\n",
    "    'User-Agent': 'Googlebot',\n",
    "    'From': 'phoebe777@gmail.com'\n",
    "}\n",
    "\n",
    "# db info\n",
    "mongoURL = \"\"\n",
    "dbName = \"\"\n",
    "\n",
    "# collection name\n",
    "PRODUCT = \"\"\n",
    "SELLER = \"\"\n"
   ]
  },
  {
   "cell_type": "code",
   "execution_count": 24,
   "metadata": {},
   "outputs": [],
   "source": [
    "def insert_to_Db(collectionName,dataList):\n",
    "    try:\n",
    "        client = MongoClient(mongoURL)\n",
    "        db = client[dbName]\n",
    "        collection = db[collectionName]\n",
    "        collection.insert_many(dataList)\n",
    "    except errors.ConnectionFailure as err:\n",
    "        print(err)"
   ]
  },
  {
   "cell_type": "code",
   "execution_count": 13,
   "metadata": {},
   "outputs": [],
   "source": [
    "def crawl_page(url):\n",
    "    r = requests.get(url,headers=headers,allow_redirects=True)\n",
    "    soup = BeautifulSoup(r.text, 'html.parser')\n",
    "    all_items = soup.find_all(\"div\", class_=\"col-xs-2-4 shopee-search-item-result__item\")\n",
    "    #print(all_items)\n",
    "    links = [i.find('a').get('href') for i in all_items]\n",
    "    item_list = []\n",
    "    seller_list = []\n",
    "    \n",
    "    for link in links:\n",
    "        newLink = link.split(\".\")\n",
    "        shopId = newLink[len(newLink)-2]\n",
    "        itemId = newLink[len(newLink)-1]\n",
    "        post_url = \"https://shopee.co.th/api/v2/item/get?itemid=\"+itemId+\"&shopid=\"+shopId\n",
    "        item_list.append(shopee_item(post_url))\n",
    "        seller_list.append(shopee_seller(shopId))\n",
    "        \n",
    "    insert_to_Db(PRODUCT,item_list) # 把 item 輸入進mongodb\n",
    "    insert_to_Db(SELLER,seller_list) # 把 seller 輸入進mongodb"
   ]
  },
  {
   "cell_type": "code",
   "execution_count": 22,
   "metadata": {},
   "outputs": [],
   "source": [
    "#爬 item\n",
    "def shopee_item(url):\n",
    "    resp = requests.get(url, headers=headers)\n",
    "    post = json.loads(resp.text)\n",
    "    items = post['item']\n",
    "    shopId = items.get('shopid')\n",
    "    items_voucher = get_voucher(shopId)\n",
    "    dic = {\n",
    "        \"productName\": items.get('name'), #商品名稱 \n",
    "        \"itemid\":items.get('itemid'), #商品id\n",
    "        \"shopid\":shopId,#賣家id\n",
    "        \"rating_star\":items.get('item_rating').get('rating_star'),#星等\n",
    "        \"rating_count\":items.get('item_rating').get('rating_count')[0],#評論數\n",
    "        \"historical_sold\":items.get('historical_sold'),#售出數\n",
    "        \"price_before_discount\":items.get('price_before_discount')/100000,#原價 \n",
    "        \"price\":items.get('price')/100000,#售價\n",
    "        \"raw_discount\":items.get('raw_discount'),#折扣百分比\n",
    "        \"liked_count\":items.get('liked_count'),#收藏數\n",
    "        \"categories\":items.get('categories')[len(items.get('categories'))-1].get('display_name'), #分類1\n",
    "        \"categories\":items.get('categories')[len(items.get('categories'))-2].get('display_name'), #分類2(有或沒有)??\n",
    "        \"description\":items.get('description'), #產品說明\n",
    "        \"options\":items.get('tier_variations')[0].get('options'),#選項(array: ) \n",
    "        \"coupon\":items_voucher,\n",
    "        \"attributes\":get_attributes(items.get('attributes')),\n",
    "        \"shipping_infos\":get_shipping_infos(shopId, items.get('itemid'))\n",
    "    }\n",
    "    re"
   ]
  },
  {
   "cell_type": "code",
   "execution_count": 4,
   "metadata": {},
   "outputs": [],
   "source": [
    "#取得 item 中的產品規格\n",
    "def get_attributes(att_list):\n",
    "    newList = []\n",
    "    for att in att_list:\n",
    "        dic = {\n",
    "            \"name\":att.get('name'),\n",
    "            \"value\":att.get('value')\n",
    "        }\n",
    "        newList.append(dic)\n",
    "    return newList"
   ]
  },
  {
   "cell_type": "code",
   "execution_count": 5,
   "metadata": {},
   "outputs": [],
   "source": [
    "#取得coupon資料\n",
    "def get_voucher(shopId):\n",
    "    url = \"https://shopee.co.th/api/v2/voucher_wallet/get_shop_vouchers_by_shopid?shopid=\"+str(shopId)+\"&with_claiming_status=false\"\n",
    "    resp = requests.get(url, headers=headers)\n",
    "    post = json.loads(resp.text)\n",
    "    voucher_list = post['data'].get(\"voucher_list\")\n",
    "    newList=[]\n",
    "    for vlist in voucher_list:\n",
    "        dic = {\n",
    "            \"discount_percentage\":vlist.get(\"discount_percentage\"),\n",
    "            \"discount_value\":vlist.get(\"discount_value\")/100000,\n",
    "            \"min_spend\":vlist.get(\"min_spend\")/100000\n",
    "        }\n",
    "        newList.append(dic)\n",
    "    return newList"
   ]
  },
  {
   "cell_type": "code",
   "execution_count": null,
   "metadata": {},
   "outputs": [],
   "source": [
    "#取得物流資料\n",
    "def get_shipping_infos(shopId, itemId):\n",
    "    url = \"https://shopee.co.th/api/v0/shop/\"+str(shopId)+\"/item/\"+str(itemId)+\"/shipping_info_to_address/\"\n",
    "    resp = requests.get(url, headers=headers)\n",
    "    post = json.loads(resp.text)\n",
    "    shipping_infos = post['shipping_infos']\n",
    "    newList = []\n",
    "    for info in shipping_infos:\n",
    "        dic = {\n",
    "            \"shipping_name\" : info.get('channel').get('display_name'),#物流商名稱  \n",
    "            \"shipping_fee\" : info.get('cost_info').get('estimated_shipping_fee')/100000,#運費原價  \n",
    "            \"discounted_shipping_fee\" : info.get('cost_info').get('discounted_shipping_fee')/100000#運費折扣價\n",
    "        }\n",
    "        newList.append(dic)\n",
    "    return newList"
   ]
  },
  {
   "cell_type": "code",
   "execution_count": 6,
   "metadata": {},
   "outputs": [],
   "source": [
    "#爬 賣家資料\n",
    "def shopee_seller(shopId):\n",
    "    url = \"https://shopee.co.th/api/v2/shop/get?is_brief=1&shopid=\"+str(shopId)\n",
    "    resp = requests.get(url, headers=headers)\n",
    "    post = json.loads(resp.text)\n",
    "    shop_data = post['data']\n",
    "    dic = {\n",
    "        \"shop_id\":shopId,\n",
    "        \"shop_name\":shop_data.get('account').get('username'),\n",
    "        \"response_rate\":shop_data.get('response_rate'), #聊天回覆率\n",
    "        \"total_avg_star\":shop_data.get('account').get('total_avg_star'), #平均星等\n",
    "        \"follower_count\":shop_data.get('follower_count'), #粉絲數\n",
    "        \"is_shopee_verified\":shop_data.get('is_shopee_verified'), #是否為蝦皮推薦賣家\n",
    "        \"ctime\":time.ctime(shop_data.get('ctime')), #加入時間\n",
    "        \"preparation_time\":getTime(shop_data.get('preparation_time'))\n",
    "    }\n",
    "    #print(dic)"
   ]
  },
  {
   "cell_type": "code",
   "execution_count": 7,
   "metadata": {},
   "outputs": [],
   "source": [
    "# 將賣家資料中的 preparation_time 作轉換 \n",
    "def getTime(seconds):\n",
    "    m, s = divmod(seconds, 60)\n",
    "    h, m = divmod(m, 60)\n",
    "    return(\"%d:%02d:%02d\" % (h, m, s))"
   ]
  },
  {
   "cell_type": "code",
   "execution_count": 10,
   "metadata": {},
   "outputs": [],
   "source": [
    "def shoppee_crawler():\n",
    "    run = True\n",
    "    has_product = 5 #連續5個價格區間都沒商品 代表跑完了\n",
    "    price = 0\n",
    "    price_range = 10\n",
    "    page = 1\n",
    "    \n",
    "    while(run):\n",
    "        if page == 1: #先從第一頁取得總頁數\n",
    "\n",
    "            url = \"https://shopee.co.th/%E0%B8%A3%E0%B8%AD%E0%B8%87%E0%B9%80%E0%B8%97%E0%B9%89%E0%B8%B2%E0%B8%9C%E0%B8%B9%E0%B9%89%E0%B8%AB%E0%B8%8D%E0%B8%B4%E0%B8%87-cat.2077?maxPrice=\"+str(price+price_range)+\"&minPrice=\"+str(price)+\"&page=\"+str(page)  # 10元一個區間\n",
    "            resp = requests.get(url,headers = header)\n",
    "            soup = BeautifulSoup(resp.content,\"lxml\")\n",
    "\n",
    "\n",
    "            count = soup.find(\"span\", class_=\"shopee-mini-page-controller__total\").text #code : 取得商品count\n",
    "\n",
    "            totalPage = math.ceil(int(count)/50) #除40後無條件進位,得目前查詢價格的總頁數#取得總頁數\n",
    "\n",
    "            if totalPage > 0:\n",
    "                has_product = 5\n",
    "                for page in range(1,totalPage+1):\n",
    "\n",
    "                    url = \"https://shopee.co.th/%E0%B8%A3%E0%B8%AD%E0%B8%87%E0%B9%80%E0%B8%97%E0%B9%89%E0%B8%B2%E0%B8%9C%E0%B8%B9%E0%B9%89%E0%B8%AB%E0%B8%8D%E0%B8%B4%E0%B8%87-cat.2077?maxPrice=\"+str(price+price_range)+\"&minPrice=\"+str(price)+\"&page=\"+str(page)  # 10元一個區間\n",
    "                    result = crawl_page(url) #crawl_page function 返回爬蟲資料\n",
    "                    #time.sleep(random.randrange(5,10)) #看網頁會不會擋 視情況停頓幾秒\n",
    "\n",
    "                price = price + price_range # 進入下一個價格區間\n",
    "                page = 1 # page初始化1\n",
    "\n",
    "            elif totalPage == 0: #代表這頁沒有商品\n",
    "                has_product = has_product - 1\n",
    "                price = price + price_range\n",
    "                page = 1\n",
    "\n",
    "\n",
    "        if has_product < 0 : #連續5個價格區間沒有商品\n",
    "            run = False # run = false 停止while迴圈"
   ]
  },
  {
   "cell_type": "code",
   "execution_count": null,
   "metadata": {},
   "outputs": [],
   "source": [
    "#執行應該就可以跑了\n",
    "shoppee_crawler()"
   ]
  }
 ],
 "metadata": {
  "kernelspec": {
   "display_name": "Python 3",
   "language": "python",
   "name": "python3"
  },
  "language_info": {
   "codemirror_mode": {
    "name": "ipython",
    "version": 3
   },
   "file_extension": ".py",
   "mimetype": "text/x-python",
   "name": "python",
   "nbconvert_exporter": "python",
   "pygments_lexer": "ipython3",
   "version": "3.6.8"
  }
 },
 "nbformat": 4,
 "nbformat_minor": 4
}
